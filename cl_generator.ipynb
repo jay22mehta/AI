{
 "cells": [
  {
   "cell_type": "code",
   "execution_count": 278,
   "metadata": {},
   "outputs": [],
   "source": [
    "import os\n",
    "from dotenv import load_dotenv"
   ]
  },
  {
   "cell_type": "code",
   "execution_count": 279,
   "metadata": {},
   "outputs": [
    {
     "data": {
      "text/plain": [
       "True"
      ]
     },
     "execution_count": 279,
     "metadata": {},
     "output_type": "execute_result"
    }
   ],
   "source": [
    "load_dotenv()"
   ]
  },
  {
   "cell_type": "code",
   "execution_count": 280,
   "metadata": {},
   "outputs": [],
   "source": [
    "from langchain_groq import ChatGroq\n",
    "\n",
    "llm = ChatGroq(\n",
    "    model=\"mixtral-8x7b-32768\",\n",
    "    temperature=0,\n",
    "    max_tokens=None,\n",
    "    timeout=None,\n",
    "    max_retries=2,\n",
    "    api_key=os.getenv(\"GROQ_API_KEY\")\n",
    "    # other params...\n",
    ")"
   ]
  },
  {
   "cell_type": "code",
   "execution_count": 281,
   "metadata": {},
   "outputs": [],
   "source": [
    "#%pip install -qU langchain_community beautifulsoup4"
   ]
  },
  {
   "cell_type": "code",
   "execution_count": 282,
   "metadata": {},
   "outputs": [],
   "source": [
    "from langchain_community.document_loaders import WebBaseLoader\n",
    "\n",
    "loader = WebBaseLoader(\"https://www.mckinsey.com/careers/search-jobs/jobs/datascienceconsultant-quantumblackaibymckinsey-92304?appsource=LinkedIn\")"
   ]
  },
  {
   "cell_type": "code",
   "execution_count": 283,
   "metadata": {},
   "outputs": [
    {
     "name": "stdout",
     "output_type": "stream",
     "text": [
      "\n",
      "\n",
      "\n",
      "\n",
      "\tJobs | Careers | McKinsey & Company\n",
      "\n",
      "\n",
      "\n",
      "\n",
      "\n",
      "\n",
      "\n",
      "\n",
      "\n",
      "\n",
      "\n",
      "\n",
      "\n",
      "\n",
      "\n",
      "\n",
      "\n",
      "\n",
      "\n",
      "\n",
      "https://www.mckinsey.com915b5091-0d7e-44d2-a8c4-cf08267e52fe\n",
      "\n",
      "\n",
      "\n",
      "\n",
      "\n",
      "\n",
      "\n",
      "\n",
      "\n",
      "\n",
      "\n",
      "                Skip to main content\n",
      "            \n",
      "\n",
      "\n",
      "\n",
      "\n",
      "\n",
      "\n",
      "\n",
      "Analytics\n",
      "Data Science Consultant - QuantumBlack, AI by McKinsey\n",
      "Job ID: 92304\n",
      "\n",
      "\n",
      "\n",
      "\n",
      "\n",
      "Berlin\n",
      "Cologne\n",
      "Dusseldorf\n",
      "Frankfurt\n",
      "Hamburg\n",
      "Munich\n",
      "Stuttgart\n",
      "\n",
      "\n",
      "\n",
      "\n",
      "Apply Now\n",
      "Apply Later\n",
      "\n",
      "\n",
      "\n",
      "\n",
      "\n",
      "Do you want to do work that matters, alongside supportive leaders who will help you grow faster than you ever thought possible? Are you a creative problem-solver who is energized by challenges? You’ve come to the right place. \n",
      "\n",
      "Who You'll Work With\n",
      "You will work with other data scientists, data/ML engineers, designers, project managers and business subject matter experts on interdisciplinary projects across various industry sectors to enable business ambitions with data & analytics.Who you areYou are a highly collaborative individual who is capable of laying aside your own agenda, listening to and learning from colleagues, challenging thoughtfully and prioritizing impact. You search for ways to improve things and work collaboratively with colleagues. You believe in iterative change, experimenting with new approaches, learning and improving to move forward quickly.Our Tech StackWhile we advocate for using the right tools for the right task, we also take into account client’s current landscape and preferences. Often, we use Python, PySpark, TensorFlow, PyTorch, Databricks, SQL, Docker and Kubernetes. We also leverage our own proprietary tools such as Kedro, CuasalNex, MLRun  (check out more OSS here: https://www.mckinsey.com/capabilities/quantumblack/labs). We work on regular basis with cloud service providers such as AWS, GCP and Azure.\n",
      "\n",
      "\n",
      "\n",
      "\n",
      "Your impact within our firm\n",
      "As a data science consultant at QuantumBlack, you will work in multi-disciplinary environments harnessing data to provide real-world impact for organizations globally. You will influence many of the recommendations our clients need to positively change their businesses and enhance performance.  Role responsibilitiesWork on complex and extremely varied data sets from some of the world’s largest organizations to solve real world problemsDevelop high quality data science products and solutions for clients as well as assets for our internal data teamsFocus on modelling, working alongside the Data Engineering teamPresent findings, recommendations and provide consultation to stakeholders (internal and clients)What you’ll learnWork across various industries and sectors, gaining insights into diverse business challenges and applications of data scienceBuild large-scale data & analytics solutions, handling complex problems and advanced client situationsBest practices in data & analytics development including framework, responsibility model, high quality code, data security, sustainability and scalabilityWork in collaborative teams with diverse skill sets, fostering effective teamwork and learning from colleagues in a multicultural and creative environmentStay up-to-date with the latest advancements in data science tools, techniques, and technologies as well as first class learning programsDevelop strong client-facing skills, including effective communication, problem-solving, and presentation abilities \n",
      "\n",
      "\n",
      "\n",
      "\n",
      "Your qualifications and skills\n",
      "\n",
      "Degree in (business) maths, statistics, machine learning, data science, physics, computer science or engineering requiredUp to 2 years of professional hands-on experience in applying advanced data science methods and implementing technical data solutions (e.g. develop machine learning models), in order to solve business problemsA strong grasp of various analytics landscape, including business intelligence, machine learning, AI, and generative AI, and how to apply them effectively in different scenariosProficiency in Python, SQL (focus on data & analytics applications)Professional experience in cloud-based analytical tools from market-leading providers such as AWS, MS Azure, Google CloudProficient communication skills in German and EnglishEffective communication and presentation skills, particularly the ability to explain complex analytical concepts in a comprehensible manner adapted to different groups of non-technical audiences e.g. business managers, heads of products, sales & marketing leadsMaster degree in data science, computer science, business informatics or equivalent is a plusPractical experience in Generative AI application developmentProven record of advisory worksProven record of leadership in a work setting and/or through extracurricular activities\n",
      "\n",
      "\n",
      "\n",
      "  Please review the additional requirements regarding essential job functions of McKinsey colleagues.\n",
      "\n",
      "\n",
      "\n",
      "\n",
      "\n",
      "\n",
      "\n",
      "\n",
      "Capabilities\n",
      "\n",
      "\n",
      "\n",
      "Technology\n",
      "\n",
      "\n",
      "\n",
      "\n",
      "\n",
      "\n",
      "\n",
      "\n",
      "Apply Now\n",
      "Apply Later\n",
      "\n",
      "\n",
      "\n",
      " FOR U.S. APPLICANTS: McKinsey & Company is an Equal Opportunity/Affirmative Action employer. All qualified applicants will receive consideration for employment without regard to sex, gender identity, sexual orientation, race, color, religion, national origin, disability, protected Veteran status, age, or any other characteristic protected by applicable law. \n",
      "\n",
      "FOR NON-U.S. APPLICANTS: McKinsey & Company is an Equal Opportunity employer. For additional details\n",
      "regarding our global EEO policy and diversity initiatives, please visit our\n",
      "McKinsey Careers and\n",
      "Diversity & Inclusion sites.\n",
      "\n",
      "\n",
      "\n",
      "\n",
      "\n",
      "share this job\n",
      "\n",
      "\n",
      "\n",
      "\n",
      "\n",
      "\n",
      "\n",
      "\n",
      "\n",
      "\n",
      "\n",
      "\t\t\tJob Skill Group - CSS Pre-Associate\n",
      "\t\t\tJob Skill Code - JRPS - Junior Specialist Pre-Associate Equivalent\n",
      "\t\t\tFunction - Technology\n",
      "\t\t\tIndustry - \n",
      "\t\t\tPost to LinkedIn - Yes\n",
      "\t\t\tPosted to LinkedIn Date - Mon Oct 14 00:00:00 GMT 2024\n",
      "\t\t\tLinkedIn Posting City - Dusseldorf\n",
      "\t\t\tLinkedIn Posting State/Province - \n",
      "\t\t\tLinkedIn Posting Country - Germany\n",
      "\t\t\tLinkedIn Job Title - Data Science Consultant - QuantumBlack, AI by McKinsey\n",
      "\t\t\tLinkedIn Function - Consulting\n",
      "\t\t\tLinkedIn Industry - Management Consulting\n",
      "            LinkedIn Seniority Level - Mid-Senior level\n",
      "\t\t\n",
      "\n",
      "\n",
      "\n",
      "\n",
      "\n",
      "\n",
      "\n",
      "\n",
      "\n",
      "\n",
      "\n",
      "\n",
      "\n",
      "\n",
      "\n",
      "\n",
      "\n",
      "\n",
      "\n",
      "\n",
      "\n",
      "\n",
      "\n",
      "\n",
      "\n",
      "\n",
      "\n",
      "\n",
      "\n"
     ]
    }
   ],
   "source": [
    "page_data = loader.load().pop().page_content\n",
    "print(page_data)"
   ]
  },
  {
   "cell_type": "code",
   "execution_count": 284,
   "metadata": {},
   "outputs": [
    {
     "name": "stdout",
     "output_type": "stream",
     "text": [
      "[\n",
      "  {\n",
      "    \"role\": \"Data Science Consultant - QuantumBlack, AI by McKinsey\",\n",
      "    \"experience\": \"Up to 2 years of professional hands-on experience in applying advanced data science methods and implementing technical data solutions\",\n",
      "    \"skills\": [\n",
      "      \"Python\",\n",
      "      \"SQL\",\n",
      "      \"PySpark\",\n",
      "      \"TensorFlow\",\n",
      "      \"PyTorch\",\n",
      "      \"Databricks\",\n",
      "      \"Docker\",\n",
      "      \"Kubernetes\",\n",
      "      \"AWS\",\n",
      "      \"GCP\",\n",
      "      \"Azure\",\n",
      "      \"German\",\n",
      "      \"English\"\n",
      "    ],\n",
      "    \"Who you are\": \"A highly collaborative individual who is capable of laying aside your own agenda, listening to and learning from colleagues, challenging thoughtfully and prioritizing impact. You search for ways to improve things and work collaboratively with colleagues. You believe in iterative change, experimenting with new approaches, learning and improving to move forward quickly.\",\n",
      "    \"Our Tech Stack\": \"Python, PySpark, TensorFlow, PyTorch, Databricks, SQL, Docker and Kubernetes. We also leverage our own proprietary tools such as Kedro, CuasalNex, MLRun (check out more OSS here: <https://www.mckinsey.com/capabilities/quantumblack/labs>). We work on regular basis with cloud service providers such as AWS, GCP and Azure.\",\n",
      "    \"Role responsibilities\": [\n",
      "      \"Work on complex and extremely varied data sets from some of the world’s largest organizations to solve real world problems\",\n",
      "      \"Develop high quality data science products and solutions for clients as well as assets for our internal data teams\",\n",
      "      \"Present findings, recommendations and provide consultation to stakeholders (internal and clients)\"\n",
      "    ],\n",
      "    \"description\": \"Do you want to do work that matters, alongside supportive leaders who will help you grow faster than you ever thought possible? Are you a creative problem-solver who is energized by challenges? You’ve come to the right place.  You will work with other data scientists, data/ML engineers, designers, project managers and business subject matter experts on interdisciplinary projects across various industry sectors to enable business ambitions with data & analytics.\"\n",
      "  }\n",
      "]\n"
     ]
    }
   ],
   "source": [
    "from langchain_core.prompts import PromptTemplate\n",
    "\n",
    "prompt_extract = PromptTemplate.from_template(\n",
    "    \"\"\" \n",
    "\n",
    "    ### SCRAPED TEXT FROM WEBSITE:\n",
    "    {page_data}\n",
    "    ### INSTRUCTION:\n",
    "    The scraped is from the career's page of a website.\n",
    "    Your job is to extract the job postings and return them in JSON format containing the \n",
    "    following keys if available: 'role','experience','skills','Who you are','Our Tech Stack','Role responsibilities' and 'description'.\n",
    "    Only return the valid JSON.\n",
    "    ### VALID JSON(NO PREAMBLE):\n",
    "    \"\"\"\n",
    ")\n",
    "\n",
    "chain_extractor = prompt_extract | llm\n",
    "\n",
    "res = chain_extractor.invoke(input={'page_data':page_data})\n",
    "print(res.content)"
   ]
  },
  {
   "cell_type": "code",
   "execution_count": 285,
   "metadata": {},
   "outputs": [
    {
     "data": {
      "text/plain": [
       "str"
      ]
     },
     "execution_count": 285,
     "metadata": {},
     "output_type": "execute_result"
    }
   ],
   "source": [
    "type(res.content)"
   ]
  },
  {
   "cell_type": "code",
   "execution_count": 286,
   "metadata": {},
   "outputs": [
    {
     "data": {
      "text/plain": [
       "[{'role': 'Data Science Consultant - QuantumBlack, AI by McKinsey',\n",
       "  'experience': 'Up to 2 years of professional hands-on experience in applying advanced data science methods and implementing technical data solutions',\n",
       "  'skills': ['Python',\n",
       "   'SQL',\n",
       "   'PySpark',\n",
       "   'TensorFlow',\n",
       "   'PyTorch',\n",
       "   'Databricks',\n",
       "   'Docker',\n",
       "   'Kubernetes',\n",
       "   'AWS',\n",
       "   'GCP',\n",
       "   'Azure',\n",
       "   'German',\n",
       "   'English'],\n",
       "  'Who you are': 'A highly collaborative individual who is capable of laying aside your own agenda, listening to and learning from colleagues, challenging thoughtfully and prioritizing impact. You search for ways to improve things and work collaboratively with colleagues. You believe in iterative change, experimenting with new approaches, learning and improving to move forward quickly.',\n",
       "  'Our Tech Stack': 'Python, PySpark, TensorFlow, PyTorch, Databricks, SQL, Docker and Kubernetes. We also leverage our own proprietary tools such as Kedro, CuasalNex, MLRun (check out more OSS here: <https://www.mckinsey.com/capabilities/quantumblack/labs>). We work on regular basis with cloud service providers such as AWS, GCP and Azure.',\n",
       "  'Role responsibilities': ['Work on complex and extremely varied data sets from some of the world’s largest organizations to solve real world problems',\n",
       "   'Develop high quality data science products and solutions for clients as well as assets for our internal data teams',\n",
       "   'Present findings, recommendations and provide consultation to stakeholders (internal and clients)'],\n",
       "  'description': 'Do you want to do work that matters, alongside supportive leaders who will help you grow faster than you ever thought possible? Are you a creative problem-solver who is energized by challenges?\\xa0You’ve come to the right place.  You will work with other data scientists, data/ML engineers, designers, project managers and business subject matter experts on interdisciplinary projects across various industry sectors to enable business ambitions with data & analytics.'}]"
      ]
     },
     "execution_count": 286,
     "metadata": {},
     "output_type": "execute_result"
    }
   ],
   "source": [
    "from langchain_core.output_parsers import JsonOutputParser\n",
    "\n",
    "json_parser = JsonOutputParser()\n",
    "\n",
    "json_res = json_parser.parse(res.content)\n",
    "\n",
    "json_res"
   ]
  },
  {
   "cell_type": "code",
   "execution_count": 287,
   "metadata": {},
   "outputs": [
    {
     "data": {
      "text/plain": [
       "list"
      ]
     },
     "execution_count": 287,
     "metadata": {},
     "output_type": "execute_result"
    }
   ],
   "source": [
    "type(json_res)"
   ]
  },
  {
   "cell_type": "code",
   "execution_count": 288,
   "metadata": {},
   "outputs": [
    {
     "data": {
      "text/plain": [
       "[{'role': 'Data Science Consultant - QuantumBlack, AI by McKinsey',\n",
       "  'experience': 'Up to 2 years of professional hands-on experience in applying advanced data science methods and implementing technical data solutions',\n",
       "  'skills': ['Python',\n",
       "   'SQL',\n",
       "   'PySpark',\n",
       "   'TensorFlow',\n",
       "   'PyTorch',\n",
       "   'Databricks',\n",
       "   'Docker',\n",
       "   'Kubernetes',\n",
       "   'AWS',\n",
       "   'GCP',\n",
       "   'Azure',\n",
       "   'German',\n",
       "   'English'],\n",
       "  'Who you are': 'A highly collaborative individual who is capable of laying aside your own agenda, listening to and learning from colleagues, challenging thoughtfully and prioritizing impact. You search for ways to improve things and work collaboratively with colleagues. You believe in iterative change, experimenting with new approaches, learning and improving to move forward quickly.',\n",
       "  'Our Tech Stack': 'Python, PySpark, TensorFlow, PyTorch, Databricks, SQL, Docker and Kubernetes. We also leverage our own proprietary tools such as Kedro, CuasalNex, MLRun (check out more OSS here: <https://www.mckinsey.com/capabilities/quantumblack/labs>). We work on regular basis with cloud service providers such as AWS, GCP and Azure.',\n",
       "  'Role responsibilities': ['Work on complex and extremely varied data sets from some of the world’s largest organizations to solve real world problems',\n",
       "   'Develop high quality data science products and solutions for clients as well as assets for our internal data teams',\n",
       "   'Present findings, recommendations and provide consultation to stakeholders (internal and clients)'],\n",
       "  'description': 'Do you want to do work that matters, alongside supportive leaders who will help you grow faster than you ever thought possible? Are you a creative problem-solver who is energized by challenges?\\xa0You’ve come to the right place.  You will work with other data scientists, data/ML engineers, designers, project managers and business subject matter experts on interdisciplinary projects across various industry sectors to enable business ambitions with data & analytics.'}]"
      ]
     },
     "execution_count": 288,
     "metadata": {},
     "output_type": "execute_result"
    }
   ],
   "source": [
    "json_res"
   ]
  },
  {
   "cell_type": "code",
   "execution_count": 292,
   "metadata": {},
   "outputs": [
    {
     "name": "stdout",
     "output_type": "stream",
     "text": [
      "CV stored in ChromaDB successfully!\n"
     ]
    }
   ],
   "source": [
    "import chromadb\n",
    "from chromadb.utils import embedding_functions\n",
    "\n",
    "# Initialize the ChromaDB client\n",
    "client = chromadb.PersistentClient(path=\"path/to/chroma_db_storage\")\n",
    "\n",
    "# Define your embedding function (using OpenAI's embeddings as an example)\n",
    "#openai_embedding = embedding_functions.OpenAIEmbeddingFunction(api_key=\"your_openai_api_key\")\n",
    "\n",
    "# Create a collection\n",
    "collection = client.create_collection(name=\"cv_dataa\")\n",
    "\n",
    "# Your JSON Data (as previously provided)\n",
    "cv_dataa = {\n",
    "  \"name\": \"Jay Mehta\",\n",
    "  \"title\": \"Data Scientist\",\n",
    "  \"contact\": {\n",
    "    \"phone\": \"+49 17676 980224\",\n",
    "    \"email\": \"jay22mehta@gmail.com\",\n",
    "    \"github\": \"https://github.com/jay22mehta\",\n",
    "    \"huggingface\": \"https://huggingface.co/jay22mehta\",\n",
    "    \"location\": \"Paderborn, Germany\"\n",
    "  },\n",
    "  \"summary\": \"Data Scientist deeply committed to crafting innovative, user-friendly solutions that drive business advancement. Currently striving to gain further expertise in programming, including machine learning, deep learning, and generative AI.\",\n",
    "  \"experience\": [\n",
    "    {\n",
    "      \"title\": \"Data Scientist\",\n",
    "      \"company\": \"BASF Agricultural Center\",\n",
    "      \"location\": \"Limburgerhof, Germany\",\n",
    "      \"duration\": \"12/2022 to Present\",\n",
    "      \"responsibilities\": [\n",
    "        \"Improved decision-making by 20% through advanced statistical modeling.\",\n",
    "        \"Specialized in machine learning algorithms and time-series analysis for sales forecasting and trend analysis.\",\n",
    "        \"Developed user-friendly digital products integrating ML models (LLMs) into applications.\",\n",
    "        \"Implemented Python-based AI frameworks for chatbots to streamline user interactions and enhance satisfaction.\",\n",
    "        \"Collaborated on cloud development projects with a focus on CI/CD pipelines.\"\n",
    "      ]\n",
    "    },\n",
    "    {\n",
    "      \"title\": \"Energy System Technique Project\",\n",
    "      \"organization\": \"Universität Paderborn\",\n",
    "      \"location\": \"Paderborn, Germany\",\n",
    "      \"duration\": \"10/2021 to 03/2022\",\n",
    "      \"responsibilities\": [\n",
    "        \"Classified heat consumption across Dortmunds districts using machine learning models.\",\n",
    "        \"Improved data analysis efficiency by 30% through QGIS integration.\",\n",
    "        \"Boosted data analysis speed by 50% with advanced statistical models.\",\n",
    "        \"Generated GIS maps to visualize heat consumption patterns.\"\n",
    "      ]\n",
    "    },\n",
    "    {\n",
    "      \"title\": \"Energy Supply Structure of the Future Project\",\n",
    "      \"organization\": \"Universität Paderborn\",\n",
    "      \"location\": \"Paderborn, Germany\",\n",
    "      \"duration\": \"10/2021 to 03/2022\",\n",
    "      \"responsibilities\": [\n",
    "        \"Developed predictive models for future temperature and weather conditions using time-series analysis.\",\n",
    "        \"Applied data preprocessing techniques, including normalization and handling missing values.\",\n",
    "        \"Built and compared machine learning models (ARIMA, LSTM) for accurate weather forecasting.\",\n",
    "        \"Utilized Python libraries (Pandas, NumPy, Scikit-learn) and Matplotlib for data processing and visualization.\"\n",
    "      ]\n",
    "    }\n",
    "  ],\n",
    "  \"education\": [\n",
    "    {\n",
    "      \"degree\": \"Bachelor of Engineering\",\n",
    "      \"field\": \"Electrical Engineering\",\n",
    "      \"institution\": \"Gujarat Technological University\",\n",
    "      \"location\": \"Ahmedabad\",\n",
    "      \"duration\": \"06/2012 to 06/2016\"\n",
    "    },\n",
    "    {\n",
    "      \"degree\": \"Master of Science\",\n",
    "      \"field\": \"Electrical System Engineering\",\n",
    "      \"institution\": \"Universität Paderborn\",\n",
    "      \"location\": \"Paderborn, Germany\",\n",
    "      \"graduation_date\": \"04/2019\"\n",
    "    }\n",
    "  ],\n",
    "  \"skills\": [\n",
    "    \"AWS\", \"Azure\", \"Data Visualization\", \"Business Intelligence\", \"Scrum\",\n",
    "    \"CI/CD\", \"Computer Vision\", \"Data Science\", \"Docker\", \"Deep Learning\",\n",
    "    \"Git\", \"GitHub\", \"Machine Learning\", \"NLP\", \"Power BI\", \"Python\",\n",
    "    \"Scikit-learn\", \"SQL\", \"Statistical Analysis\", \"TensorFlow\", \"MongoDB\",\n",
    "    \"GCP\", \"Streamlit\", \"PyTorch\", \"Azure Databricks\", \"Azure ML\"\n",
    "  ],\n",
    "  \"languages\": [\n",
    "    {\n",
    "      \"language\": \"English\",\n",
    "      \"proficiency\": \"Proficient\"\n",
    "    },\n",
    "    {\n",
    "      \"language\": \"German\",\n",
    "      \"proficiency\": \"Intermediate\"\n",
    "    }\n",
    "  ],\n",
    "  \"passions\": [\"Badminton\", \"Chess\", \"Cycling\"]\n",
    "}\n",
    "\n",
    "\n",
    "# Add the JSON data to ChromaDB\n",
    "collection.add(\n",
    "    documents=[str(cv_dataa)],  # Convert to string or JSON format\n",
    "    ids=[\"jay_mehta_cv\"],      # Unique ID for the document\n",
    "    metadatas=[{\"userid\":\"jaym\"}]  # Optional metadata\n",
    ")\n",
    "\n",
    "print(\"CV stored in ChromaDB successfully!\")\n"
   ]
  },
  {
   "cell_type": "code",
   "execution_count": null,
   "metadata": {},
   "outputs": [],
   "source": []
  },
  {
   "cell_type": "code",
   "execution_count": 293,
   "metadata": {},
   "outputs": [
    {
     "name": "stdout",
     "output_type": "stream",
     "text": [
      "Data Science Consultant - QuantumBlack, AI by McKinsey\n"
     ]
    }
   ],
   "source": [
    "role = json_res[0]['role']\n",
    "print(role)"
   ]
  },
  {
   "cell_type": "code",
   "execution_count": 294,
   "metadata": {},
   "outputs": [
    {
     "name": "stdout",
     "output_type": "stream",
     "text": [
      "['Python', 'SQL', 'PySpark', 'TensorFlow', 'PyTorch', 'Databricks', 'Docker', 'Kubernetes', 'AWS', 'GCP', 'Azure', 'German', 'English']\n"
     ]
    }
   ],
   "source": [
    "skills = json_res[0]['skills']\n",
    "print(skills)"
   ]
  },
  {
   "cell_type": "code",
   "execution_count": 295,
   "metadata": {},
   "outputs": [
    {
     "name": "stdout",
     "output_type": "stream",
     "text": [
      "Up to 2 years of professional hands-on experience in applying advanced data science methods and implementing technical data solutions\n"
     ]
    }
   ],
   "source": [
    "experience =  json_res[0]['experience']\n",
    "print(experience)"
   ]
  },
  {
   "cell_type": "code",
   "execution_count": 297,
   "metadata": {},
   "outputs": [
    {
     "data": {
      "text/plain": [
       "[[[{'userid': 'jaym'}]],\n",
       " [[{'userid': 'jaym'}]],\n",
       " [[{'userid': 'jaym'}]],\n",
       " [[{'userid': 'jaym'}]],\n",
       " [[{'userid': 'jaym'}]],\n",
       " [[{'userid': 'jaym'}]],\n",
       " [[{'userid': 'jaym'}]],\n",
       " [[{'userid': 'jaym'}]],\n",
       " [[{'userid': 'jaym'}]],\n",
       " [[{'userid': 'jaym'}]],\n",
       " [[{'userid': 'jaym'}]],\n",
       " [[{'userid': 'jaym'}]],\n",
       " [[{'userid': 'jaym'}]]]"
      ]
     },
     "execution_count": 297,
     "metadata": {},
     "output_type": "execute_result"
    }
   ],
   "source": [
    "queries = skills\n",
    "ans_skills = [collection.query(query_texts=[query],n_results=1).get('metadatas',[]) for query in queries]\n",
    "ans_skills"
   ]
  },
  {
   "cell_type": "code",
   "execution_count": 273,
   "metadata": {},
   "outputs": [
    {
     "name": "stdout",
     "output_type": "stream",
     "text": [
      "Dear Hiring Manager,\n",
      "\n",
      "I am writing to express my interest in the Data Scientist position at your esteemed organization, as advertised. My proficiency in Python, Machine Learning, and Data Science, coupled with my experience in AWS, Azure, and GCP, make me a strong candidate for this role.\n",
      "\n",
      "In my previous role, I spearheaded a project that improved decision-making by 20% through the development of predictive weather models. I am confident that my skills and experience will enable me to contribute significantly to your team.\n",
      "\n",
      "I am particularly drawn to your organization due to its commitment to innovation and community impact. As someone who values continuous learning and collaboration, I am eager to contribute to a team that shares these values.\n",
      "\n",
      "I look forward to the opportunity to discuss how my experience and skills align with the Data Scientist role. Thank you for considering my application, and I eagerly anticipate the possibility of contributing to your esteemed organization.\n",
      "\n",
      "Sincerely,\n",
      "Jay Mehta\n",
      "jay22mehta@gmail.com\n",
      "+49 123 4567890\n",
      "\n",
      "Note: You can find my portfolio and relevant projects at <https://github.com/jay22mehta>.\n"
     ]
    }
   ],
   "source": [
    "prompt_email = PromptTemplate.from_template(\n",
    "        \"\"\"\n",
    "        ### JOB DESCRIPTION:\n",
    "        {job_description}\n",
    "        \n",
    "        ### INSTRUCTION:\n",
    "        You are J, representing jay and you will write cover letter on behalf of him.\n",
    "        Your are master in art of writing cover letters, write a cover letter to the client regarding the job mentioned above describing the capability of jay's \n",
    "        in fulfilling their needs.\n",
    "\n",
    "        ### 1. STARTS WITH A PROFFETIONAL GREETINGS (5 to 10 WORDS)\n",
    "        {From Careers Page: Role}\n",
    "        Address the hiring manager by name whenever possible (e.g., Dear [First Name Last Name] or Dear [Position Title]).\n",
    "        If the name is unknown, use a respectful general greeting like Dear Hiring Manager.\n",
    "\n",
    "        ### 2. OPENING PARAGRAPHS: GRAB ATTENTION (50 to 70 WORDS)\n",
    "        {From Careers Page: Description}\n",
    "        Introduce yourself and state the position you are applying for.\n",
    "        Mention a specific detail about the company or role that excites you.\n",
    "        If applicable, briefly reference a referral or how you learned about the position.\n",
    "        Example:\n",
    "        I am excited to apply for the [Position Title] role at [Company Name].\n",
    "        As a [Your Profession/Skill Set], I admire [specific detail about the company, such as a project, mission, or value]. \n",
    "        My skills in [specific skills] align closely with the requirements of this role.\n",
    "\n",
    "        ### 3. MIDDLE PARAGRAPHS: SHOWCASE YOUR FIT  (80 TO 100 WORDS)\n",
    "        {From Careers Page: Role Responsibilities}\n",
    "        {From Careers Page: Who You Are}\n",
    "        {From Careers Page: Tech Stack}\n",
    "        Highlight Your Skills and Experience: Discuss your most relevant qualifications, using specific examples to demonstrate your accomplishments. Tie these to the job’s requirements.\n",
    "        Quantify Your Impact: Use numbers, percentages, or tangible results to show your contributions.\n",
    "        Connect to the Companys Needs: Explain how your background enables you to solve the companys challenges or add value.\n",
    "        Example:\n",
    "        In my previous role as [Position], I spearheaded a project that increased [result, e.g., revenue, efficiency] by [percentage/amount].\n",
    "        By [specific actions you took], I was able to [positive outcome]. \n",
    "        These experiences have equipped me with the skills to [how you will apply them to the new role].\n",
    "\n",
    "        ### 4. SHOWCASE PASSION AND CULTURE FIT\n",
    "        {From Careers Page: Experience}\n",
    "        Express enthusiasm for the companys mission, values, or recent accomplishments.\n",
    "        Illustrate why you are particularly drawn to this role and how you align with the organizations culture.\n",
    "        Example:\n",
    "        What excites me most about [Company Name] is its dedication to [specific aspect, e.g., innovation, community impact].\n",
    "        As someone who values [shared value or trait], I am eager to contribute to a team committed to [specific company goal].\n",
    "\n",
    "        ### 5. CLOSING PARAGRAPH: END STRONG\n",
    "        {From Careers Page: Skills}\n",
    "        Reiterate your interest in the role and confidence in your ability to contribute.\n",
    "        Politely encourage next steps, such as an interview, without being overly pushy.\n",
    "        Thank the reader for their time and consideration.\n",
    "        Example:\n",
    "        I would welcome the opportunity to discuss how my experience and skills align with the [Position Title] role. \n",
    "        Thank you for considering my application, and I look forward to the possibility of contributing to [Company Name].\n",
    "        ### 6. Professional Closing\n",
    "        Use a formal sign-off like Sincerely, Best regards, or Thank you.\n",
    "        Include your full name and contact information (if not already provided elsewhere).\n",
    "\n",
    "        ### General Tips\n",
    "        Be Concise: Limit your letter to 3 or 4 paragraphs, or about one page.\n",
    "        Tailor It: Customize your letter for each role by researching the company and incorporating relevant details.\n",
    "        Avoid Jargon: Use clear, professional language that is easy to understand.\n",
    "        Proofread: Double-check for grammar, spelling, and formatting errors.\n",
    "\n",
    "\n",
    "\n",
    "\n",
    "        Also add the most relevant experience and project that you have worked on based on client requerement and skill set add \n",
    "        relevant skills every thing about jay is astored here in  : {ans}\n",
    "        Remember you are J.\n",
    "        Do not provide a preamble.\n",
    "        ### EMAIL (NO PREAMBLE):\n",
    "        \n",
    "        \"\"\"\n",
    "        )\n",
    "\n",
    "chain_email = prompt_email | llm\n",
    "res = chain_email.invoke({\"job_description\": str(Job),\"ans\":ans})\n",
    "print(res.content)"
   ]
  },
  {
   "cell_type": "code",
   "execution_count": null,
   "metadata": {},
   "outputs": [],
   "source": []
  },
  {
   "cell_type": "code",
   "execution_count": 271,
   "metadata": {},
   "outputs": [
    {
     "name": "stdout",
     "output_type": "stream",
     "text": [
      "Job Description: ['Python', 'SQL', 'PySpark', 'TensorFlow', 'PyTorch', 'Databricks', 'Docker', 'Kubernetes', 'AWS', 'GCP', 'Azure', 'German', 'English']\n",
      "Ans: [[[{'certifications': 'AWS Certified Data Analytics,Azure Data Scientist Associate', 'github': 'https://github.com/jay22mehta', 'highest_degree': 'Master of Science', 'id': 'jay_mehta_cv', 'institutions': 'Universität Paderborn,Gujarat Technological University', 'key_achievements': 'Improved decision-making by 20%,Built predictive weather models', 'languages': 'English: Proficient,German: Intermediate', 'location': 'Paderborn, Germany', 'name': 'Jay Mehta', 'primary_industry': 'Data Science and AI', 'profession': 'Data Scientist', 'project_focus_areas': 'Time-Series Forecasting,GIS Integration,Weather Modeling', 'search_tags': 'Data Scientist,Machine Learning,AI Development', 'source': 'user_cv', 'top_skills': 'Python,Machine Learning,Data Science', 'years_in_current_role': '1 year', 'years_of_experience': 5}]], [[{'certifications': 'AWS Certified Data Analytics,Azure Data Scientist Associate', 'github': 'https://github.com/jay22mehta', 'highest_degree': 'Master of Science', 'id': 'jay_mehta_cv', 'institutions': 'Universität Paderborn,Gujarat Technological University', 'key_achievements': 'Improved decision-making by 20%,Built predictive weather models', 'languages': 'English: Proficient,German: Intermediate', 'location': 'Paderborn, Germany', 'name': 'Jay Mehta', 'primary_industry': 'Data Science and AI', 'profession': 'Data Scientist', 'project_focus_areas': 'Time-Series Forecasting,GIS Integration,Weather Modeling', 'search_tags': 'Data Scientist,Machine Learning,AI Development', 'source': 'user_cv', 'top_skills': 'Python,Machine Learning,Data Science', 'years_in_current_role': '1 year', 'years_of_experience': 5}]], [[{'certifications': 'AWS Certified Data Analytics,Azure Data Scientist Associate', 'github': 'https://github.com/jay22mehta', 'highest_degree': 'Master of Science', 'id': 'jay_mehta_cv', 'institutions': 'Universität Paderborn,Gujarat Technological University', 'key_achievements': 'Improved decision-making by 20%,Built predictive weather models', 'languages': 'English: Proficient,German: Intermediate', 'location': 'Paderborn, Germany', 'name': 'Jay Mehta', 'primary_industry': 'Data Science and AI', 'profession': 'Data Scientist', 'project_focus_areas': 'Time-Series Forecasting,GIS Integration,Weather Modeling', 'search_tags': 'Data Scientist,Machine Learning,AI Development', 'source': 'user_cv', 'top_skills': 'Python,Machine Learning,Data Science', 'years_in_current_role': '1 year', 'years_of_experience': 5}]], [[{'certifications': 'AWS Certified Data Analytics,Azure Data Scientist Associate', 'github': 'https://github.com/jay22mehta', 'highest_degree': 'Master of Science', 'id': 'jay_mehta_cv', 'institutions': 'Universität Paderborn,Gujarat Technological University', 'key_achievements': 'Improved decision-making by 20%,Built predictive weather models', 'languages': 'English: Proficient,German: Intermediate', 'location': 'Paderborn, Germany', 'name': 'Jay Mehta', 'primary_industry': 'Data Science and AI', 'profession': 'Data Scientist', 'project_focus_areas': 'Time-Series Forecasting,GIS Integration,Weather Modeling', 'search_tags': 'Data Scientist,Machine Learning,AI Development', 'source': 'user_cv', 'top_skills': 'Python,Machine Learning,Data Science', 'years_in_current_role': '1 year', 'years_of_experience': 5}]], [[{'certifications': 'AWS Certified Data Analytics,Azure Data Scientist Associate', 'github': 'https://github.com/jay22mehta', 'highest_degree': 'Master of Science', 'id': 'jay_mehta_cv', 'institutions': 'Universität Paderborn,Gujarat Technological University', 'key_achievements': 'Improved decision-making by 20%,Built predictive weather models', 'languages': 'English: Proficient,German: Intermediate', 'location': 'Paderborn, Germany', 'name': 'Jay Mehta', 'primary_industry': 'Data Science and AI', 'profession': 'Data Scientist', 'project_focus_areas': 'Time-Series Forecasting,GIS Integration,Weather Modeling', 'search_tags': 'Data Scientist,Machine Learning,AI Development', 'source': 'user_cv', 'top_skills': 'Python,Machine Learning,Data Science', 'years_in_current_role': '1 year', 'years_of_experience': 5}]], [[{'certifications': 'AWS Certified Data Analytics,Azure Data Scientist Associate', 'github': 'https://github.com/jay22mehta', 'highest_degree': 'Master of Science', 'id': 'jay_mehta_cv', 'institutions': 'Universität Paderborn,Gujarat Technological University', 'key_achievements': 'Improved decision-making by 20%,Built predictive weather models', 'languages': 'English: Proficient,German: Intermediate', 'location': 'Paderborn, Germany', 'name': 'Jay Mehta', 'primary_industry': 'Data Science and AI', 'profession': 'Data Scientist', 'project_focus_areas': 'Time-Series Forecasting,GIS Integration,Weather Modeling', 'search_tags': 'Data Scientist,Machine Learning,AI Development', 'source': 'user_cv', 'top_skills': 'Python,Machine Learning,Data Science', 'years_in_current_role': '1 year', 'years_of_experience': 5}]], [[{'certifications': 'AWS Certified Data Analytics,Azure Data Scientist Associate', 'github': 'https://github.com/jay22mehta', 'highest_degree': 'Master of Science', 'id': 'jay_mehta_cv', 'institutions': 'Universität Paderborn,Gujarat Technological University', 'key_achievements': 'Improved decision-making by 20%,Built predictive weather models', 'languages': 'English: Proficient,German: Intermediate', 'location': 'Paderborn, Germany', 'name': 'Jay Mehta', 'primary_industry': 'Data Science and AI', 'profession': 'Data Scientist', 'project_focus_areas': 'Time-Series Forecasting,GIS Integration,Weather Modeling', 'search_tags': 'Data Scientist,Machine Learning,AI Development', 'source': 'user_cv', 'top_skills': 'Python,Machine Learning,Data Science', 'years_in_current_role': '1 year', 'years_of_experience': 5}]], [[{'certifications': 'AWS Certified Data Analytics,Azure Data Scientist Associate', 'github': 'https://github.com/jay22mehta', 'highest_degree': 'Master of Science', 'id': 'jay_mehta_cv', 'institutions': 'Universität Paderborn,Gujarat Technological University', 'key_achievements': 'Improved decision-making by 20%,Built predictive weather models', 'languages': 'English: Proficient,German: Intermediate', 'location': 'Paderborn, Germany', 'name': 'Jay Mehta', 'primary_industry': 'Data Science and AI', 'profession': 'Data Scientist', 'project_focus_areas': 'Time-Series Forecasting,GIS Integration,Weather Modeling', 'search_tags': 'Data Scientist,Machine Learning,AI Development', 'source': 'user_cv', 'top_skills': 'Python,Machine Learning,Data Science', 'years_in_current_role': '1 year', 'years_of_experience': 5}]], [[{'certifications': 'AWS Certified Data Analytics,Azure Data Scientist Associate', 'github': 'https://github.com/jay22mehta', 'highest_degree': 'Master of Science', 'id': 'jay_mehta_cv', 'institutions': 'Universität Paderborn,Gujarat Technological University', 'key_achievements': 'Improved decision-making by 20%,Built predictive weather models', 'languages': 'English: Proficient,German: Intermediate', 'location': 'Paderborn, Germany', 'name': 'Jay Mehta', 'primary_industry': 'Data Science and AI', 'profession': 'Data Scientist', 'project_focus_areas': 'Time-Series Forecasting,GIS Integration,Weather Modeling', 'search_tags': 'Data Scientist,Machine Learning,AI Development', 'source': 'user_cv', 'top_skills': 'Python,Machine Learning,Data Science', 'years_in_current_role': '1 year', 'years_of_experience': 5}]], [[{'certifications': 'AWS Certified Data Analytics,Azure Data Scientist Associate', 'github': 'https://github.com/jay22mehta', 'highest_degree': 'Master of Science', 'id': 'jay_mehta_cv', 'institutions': 'Universität Paderborn,Gujarat Technological University', 'key_achievements': 'Improved decision-making by 20%,Built predictive weather models', 'languages': 'English: Proficient,German: Intermediate', 'location': 'Paderborn, Germany', 'name': 'Jay Mehta', 'primary_industry': 'Data Science and AI', 'profession': 'Data Scientist', 'project_focus_areas': 'Time-Series Forecasting,GIS Integration,Weather Modeling', 'search_tags': 'Data Scientist,Machine Learning,AI Development', 'source': 'user_cv', 'top_skills': 'Python,Machine Learning,Data Science', 'years_in_current_role': '1 year', 'years_of_experience': 5}]], [[{'certifications': 'AWS Certified Data Analytics,Azure Data Scientist Associate', 'github': 'https://github.com/jay22mehta', 'highest_degree': 'Master of Science', 'id': 'jay_mehta_cv', 'institutions': 'Universität Paderborn,Gujarat Technological University', 'key_achievements': 'Improved decision-making by 20%,Built predictive weather models', 'languages': 'English: Proficient,German: Intermediate', 'location': 'Paderborn, Germany', 'name': 'Jay Mehta', 'primary_industry': 'Data Science and AI', 'profession': 'Data Scientist', 'project_focus_areas': 'Time-Series Forecasting,GIS Integration,Weather Modeling', 'search_tags': 'Data Scientist,Machine Learning,AI Development', 'source': 'user_cv', 'top_skills': 'Python,Machine Learning,Data Science', 'years_in_current_role': '1 year', 'years_of_experience': 5}]], [[{'certifications': 'AWS Certified Data Analytics,Azure Data Scientist Associate', 'github': 'https://github.com/jay22mehta', 'highest_degree': 'Master of Science', 'id': 'jay_mehta_cv', 'institutions': 'Universität Paderborn,Gujarat Technological University', 'key_achievements': 'Improved decision-making by 20%,Built predictive weather models', 'languages': 'English: Proficient,German: Intermediate', 'location': 'Paderborn, Germany', 'name': 'Jay Mehta', 'primary_industry': 'Data Science and AI', 'profession': 'Data Scientist', 'project_focus_areas': 'Time-Series Forecasting,GIS Integration,Weather Modeling', 'search_tags': 'Data Scientist,Machine Learning,AI Development', 'source': 'user_cv', 'top_skills': 'Python,Machine Learning,Data Science', 'years_in_current_role': '1 year', 'years_of_experience': 5}]], [[{'certifications': 'AWS Certified Data Analytics,Azure Data Scientist Associate', 'github': 'https://github.com/jay22mehta', 'highest_degree': 'Master of Science', 'id': 'jay_mehta_cv', 'institutions': 'Universität Paderborn,Gujarat Technological University', 'key_achievements': 'Improved decision-making by 20%,Built predictive weather models', 'languages': 'English: Proficient,German: Intermediate', 'location': 'Paderborn, Germany', 'name': 'Jay Mehta', 'primary_industry': 'Data Science and AI', 'profession': 'Data Scientist', 'project_focus_areas': 'Time-Series Forecasting,GIS Integration,Weather Modeling', 'search_tags': 'Data Scientist,Machine Learning,AI Development', 'source': 'user_cv', 'top_skills': 'Python,Machine Learning,Data Science', 'years_in_current_role': '1 year', 'years_of_experience': 5}]]]\n"
     ]
    }
   ],
   "source": [
    "print(\"Job Description:\", Job)\n",
    "print(\"Ans:\", ans)\n"
   ]
  },
  {
   "cell_type": "code",
   "execution_count": 272,
   "metadata": {},
   "outputs": [
    {
     "name": "stdout",
     "output_type": "stream",
     "text": [
      "['Python', 'SQL', 'PySpark', 'TensorFlow', 'PyTorch', 'Databricks', 'Docker', 'Kubernetes', 'AWS', 'GCP', 'Azure', 'German', 'English']\n"
     ]
    }
   ],
   "source": [
    "print(str(Job))"
   ]
  },
  {
   "cell_type": "code",
   "execution_count": null,
   "metadata": {},
   "outputs": [],
   "source": []
  },
  {
   "cell_type": "code",
   "execution_count": null,
   "metadata": {},
   "outputs": [],
   "source": []
  },
  {
   "cell_type": "code",
   "execution_count": null,
   "metadata": {},
   "outputs": [],
   "source": [
    "metadatas=[{\n",
    "  \"source\": \"user_cv\",\n",
    "  \"id\": \"jay_mehta_cv\",\n",
    "  \"name\": \"Jay Mehta\",\n",
    "  \"location\": \"Paderborn, Germany\",\n",
    "  \"profession\": \"Data Scientist\",\n",
    "  \"experience\": [\n",
    "    {\n",
    "      \"title\": \"Data Scientist\",\n",
    "      \"company\": \"BASF Agricultural Center\",\n",
    "      \"location\": \"Limburgerhof, Germany\",\n",
    "      \"duration\": \"12/2022 to Present\",\n",
    "      \"responsibilities\": [\n",
    "        \"Improved decision-making by 20% through advanced statistical modeling.\",\n",
    "        \"Specialized in machine learning algorithms and time-series analysis for sales forecasting and trend analysis.\",\n",
    "        \"Developed user-friendly digital products integrating ML models (LLMs) into applications.\",\n",
    "        \"Implemented Python-based AI frameworks for chatbots to streamline user interactions and enhance satisfaction.\",\n",
    "        \"Collaborated on cloud development projects with a focus on CI/CD pipelines.\"\n",
    "      ]\n",
    "    },\n",
    "    {\n",
    "      \"title\": \"Energy System Technique Project\",\n",
    "      \"organization\": \"Universität Paderborn\",\n",
    "      \"location\": \"Paderborn, Germany\",\n",
    "      \"duration\": \"10/2021 to 03/2022\",\n",
    "      \"responsibilities\": [\n",
    "        \"Classified heat consumption across Dortmunds districts using machine learning models.\",\n",
    "        \"Improved data analysis efficiency by 30% through QGIS integration.\",\n",
    "        \"Boosted data analysis speed by 50% with advanced statistical models.\",\n",
    "        \"Generated GIS maps to visualize heat consumption patterns.\"\n",
    "      ]\n",
    "    },\n",
    "    {\n",
    "      \"title\": \"Energy Supply Structure of the Future Project\",\n",
    "      \"organization\": \"Universität Paderborn\",\n",
    "      \"location\": \"Paderborn, Germany\",\n",
    "      \"duration\": \"10/2021 to 03/2022\",\n",
    "      \"responsibilities\": [\n",
    "        \"Developed predictive models for future temperature and weather conditions using time-series analysis.\",\n",
    "        \"Applied data preprocessing techniques, including normalization and handling missing values.\",\n",
    "        \"Built and compared machine learning models (ARIMA, LSTM) for accurate weather forecasting.\",\n",
    "        \"Utilized Python libraries (Pandas, NumPy, Scikit-learn) and Matplotlib for data processing and visualization.\"\n",
    "      ]\n",
    "    }\n",
    "  ],\n",
    "  \"years_of_experience\": 2,\n",
    "  \"skills\": \",\".join([[\"AWS\", \"Azure\", \"Data Visualization\", \"Business Intelligence\", \"Scrum\",\n",
    "    \"CI/CD\", \"Computer Vision\", \"Data Science\", \"Docker\", \"Deep Learning\",\n",
    "    \"Git\", \"GitHub\", \"Machine Learning\", \"NLP\", \"Power BI\", \"Python\",\n",
    "    \"Scikit-learn\", \"SQL\", \"Statistical Analysis\", \"TensorFlow\", \"MongoDB\",\n",
    "    \"GCP\", \"Streamlit\", \"PyTorch\", \"Azure Databricks\", \"Azure ML\"]]),\n",
    "  \"primary_industry\": \"Data Science and AI\",\n",
    "  \"project_focus_areas\": \",\".join([\"Machine learning\",\"Generative AI\",\"Time-Series Forecasting\"]),\n",
    "  \"highest_degree\": \"Master of Science\",\n",
    "  \"institutions\": \",\".join([\"Universität Paderborn\", \"Gujarat Technological University\"]),\n",
    "  \"github\": \"https://github.com/jay22mehta\",\n",
    "  \"years_in_current_role\": \"2 year\",\n",
    "  \"search_tags\": \",\".join([\"Data Scientist\", \"Machine Learning\", \"AI Development\"]),\n",
    "  \"languages\": \",\".join([\"English: Proficient\", \"German: Intermediate\"])\n",
    "}\n",
    "] "
   ]
  }
 ],
 "metadata": {
  "kernelspec": {
   "display_name": "Python 3",
   "language": "python",
   "name": "python3"
  },
  "language_info": {
   "codemirror_mode": {
    "name": "ipython",
    "version": 3
   },
   "file_extension": ".py",
   "mimetype": "text/x-python",
   "name": "python",
   "nbconvert_exporter": "python",
   "pygments_lexer": "ipython3",
   "version": "3.10.15"
  }
 },
 "nbformat": 4,
 "nbformat_minor": 2
}
